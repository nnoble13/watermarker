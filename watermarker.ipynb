{
 "cells": [
  {
   "cell_type": "code",
   "execution_count": 15,
   "id": "b3c1bc6e",
   "metadata": {},
   "outputs": [],
   "source": [
    "import cv2\n",
    "import os\n",
    "import numpy as np"
   ]
  },
  {
   "cell_type": "code",
   "execution_count": 59,
   "id": "6829b31a",
   "metadata": {},
   "outputs": [],
   "source": [
    "def calculate_font_scale(image_width, text, font=cv2.FONT_HERSHEY_SIMPLEX, thickness=2, max_width_ratio=1.0):\n",
    "    # Start with a base font scale\n",
    "    font_scale = 1.0\n",
    "    # Get the text width at base font scale\n",
    "    (text_width, _), _ = cv2.getTextSize(text, font, font_scale, thickness)\n",
    "    # Calculate the scale factor to fit the text within max_width_ratio * image_width\n",
    "    scale_factor = (max_width_ratio * image_width) / text_width\n",
    "    # Do not allow the text to be larger than the image\n",
    "    if scale_factor > 1:\n",
    "        scale_factor = 1\n",
    "    return scale_factor\n",
    "\n",
    "def add_transparent_text(image, text, font=cv2.FONT_HERSHEY_SIMPLEX, thickness=2, alpha=0.35, max_width_ratio=1.0):\n",
    "    h, w = image.shape[:2]\n",
    "    font_scale = calculate_font_scale(w, text, font, thickness, max_width_ratio)\n",
    "    (text_width, text_height), baseline = cv2.getTextSize(text, font, font_scale, thickness)\n",
    "    x = max(0, (w - text_width) // 2)\n",
    "    y = (h + text_height) // 2\n",
    "    position = (x, y)\n",
    "    overlay = image.copy()\n",
    "    color = get_contrasting_color(image, position, font_scale, thickness)\n",
    "    cv2.putText(overlay, text, position, font, font_scale, color, thickness)\n",
    "    cv2.addWeighted(overlay, alpha, image, 1 - alpha, 0, image)\n",
    "    return image\n"
   ]
  },
  {
   "cell_type": "code",
   "execution_count": 60,
   "id": "83ecbfd1",
   "metadata": {},
   "outputs": [],
   "source": [
    "\n",
    "for img in os.listdir('to_mark'):\n",
    "    if img.endswith('.jpg') or img.endswith('.png'):\n",
    "        image = cv2.imread(os.path.join('to_mark', img))\n",
    "        image = add_transparent_text(image, '''sample only NOTFORSALE @asianobleart''') #target_width_ratio=0.5)\n",
    "        cv2.imwrite(os.path.join('watermarked', img), image)"
   ]
  },
  {
   "cell_type": "code",
   "execution_count": null,
   "id": "cfe3b46c",
   "metadata": {},
   "outputs": [],
   "source": []
  }
 ],
 "metadata": {
  "kernelspec": {
   "display_name": "watermarker",
   "language": "python",
   "name": "python3"
  },
  "language_info": {
   "codemirror_mode": {
    "name": "ipython",
    "version": 3
   },
   "file_extension": ".py",
   "mimetype": "text/x-python",
   "name": "python",
   "nbconvert_exporter": "python",
   "pygments_lexer": "ipython3",
   "version": "3.12.9"
  }
 },
 "nbformat": 4,
 "nbformat_minor": 5
}
